{
 "cells": [
  {
   "cell_type": "markdown",
   "metadata": {},
   "source": [
    "* Competition link https://www.kaggle.com/c/house-prices-advanced-regression-techniques\n",
    "* Useful reference https://github.com/ageron/handson-ml/blob/master/02_end_to_end_machine_learning_project.ipynb"
   ]
  },
  {
   "cell_type": "code",
   "execution_count": 17,
   "metadata": {},
   "outputs": [],
   "source": [
    "import helpers as helpers\n",
    "import matplotlib.pyplot as plt\n",
    "%matplotlib inline\n",
    "import numpy as np\n",
    "import pandas as pd\n",
    "import seaborn as sns\n",
    "from sklearn.model_selection import train_test_split"
   ]
  },
  {
   "cell_type": "code",
   "execution_count": 2,
   "metadata": {},
   "outputs": [
    {
     "name": "stdout",
     "output_type": "stream",
     "text": [
      "README.md                       \u001b[34mdata\u001b[m\u001b[m/\r\n",
      "Robin kaggle house price.ipynb  helpers.py\r\n",
      "\u001b[34m__pycache__\u001b[m\u001b[m/\r\n"
     ]
    }
   ],
   "source": [
    "ls"
   ]
  },
  {
   "cell_type": "code",
   "execution_count": 3,
   "metadata": {},
   "outputs": [
    {
     "name": "stderr",
     "output_type": "stream",
     "text": [
      "/anaconda3/lib/python3.6/site-packages/ipykernel_launcher.py:1: FutureWarning: from_csv is deprecated. Please use read_csv(...) instead. Note that some of the default arguments are different, so please refer to the documentation for from_csv when changing your function calls\n",
      "  \"\"\"Entry point for launching an IPython kernel.\n"
     ]
    }
   ],
   "source": [
    "housing = pd.DataFrame.from_csv(\"data/train.csv\")"
   ]
  },
  {
   "cell_type": "code",
   "execution_count": 4,
   "metadata": {},
   "outputs": [],
   "source": [
    "description = {col:helpers.get_info(col) for col in housing.columns}  # Cerate the description dict"
   ]
  },
  {
   "cell_type": "code",
   "execution_count": 5,
   "metadata": {},
   "outputs": [
    {
     "data": {
      "text/plain": [
       "' Identifies the type of dwelling involved in the sale.'"
      ]
     },
     "execution_count": 5,
     "metadata": {},
     "output_type": "execute_result"
    }
   ],
   "source": [
    "description[housing.columns[0]]"
   ]
  },
  {
   "cell_type": "code",
   "execution_count": 6,
   "metadata": {},
   "outputs": [
    {
     "data": {
      "text/plain": [
       "{'1stFlrSF': ' First Floor square feet',\n",
       " '2ndFlrSF': ' Second floor square feet',\n",
       " '3SsnPorch': ' Three season porch area in square feet',\n",
       " 'Alley': ' Type of alley access to property',\n",
       " 'BedroomAbvGr': None,\n",
       " 'BldgType': ' Type of dwelling',\n",
       " 'BsmtCond': ' Evaluates the general condition of the basement',\n",
       " 'BsmtExposure': ' Refers to walkout or garden level walls',\n",
       " 'BsmtFinSF1': ' Type 1 finished square feet',\n",
       " 'BsmtFinSF2': ' Type 2 finished square feet',\n",
       " 'BsmtFinType1': ' Rating of basement finished area',\n",
       " 'BsmtFinType2': ' Rating of basement finished area (if multiple types)',\n",
       " 'BsmtFullBath': ' Basement full bathrooms',\n",
       " 'BsmtHalfBath': ' Basement half bathrooms',\n",
       " 'BsmtQual': ' Evaluates the height of the basement',\n",
       " 'BsmtUnfSF': ' Unfinished square feet of basement area',\n",
       " 'CentralAir': ' Central air conditioning',\n",
       " 'Condition1': ' Proximity to various conditions',\n",
       " 'Condition2': ' Proximity to various conditions (if more than one is present)',\n",
       " 'Electrical': ' Electrical system',\n",
       " 'EnclosedPorch': ' Enclosed porch area in square feet',\n",
       " 'ExterCond': ' Evaluates the present condition of the material on the exterior',\n",
       " 'ExterQual': ' Evaluates the quality of the material on the exterior',\n",
       " 'Exterior1st': ' Exterior covering on house',\n",
       " 'Exterior2nd': ' Exterior covering on house (if more than one material)',\n",
       " 'Fence': ' Fence quality',\n",
       " 'FireplaceQu': ' Fireplace quality',\n",
       " 'Fireplaces': ' Number of fireplaces',\n",
       " 'Foundation': ' Type of foundation',\n",
       " 'FullBath': ' Full bathrooms above grade',\n",
       " 'Functional': ' Home functionality (Assume typical unless deductions are warranted)',\n",
       " 'GarageArea': ' Size of garage in square feet',\n",
       " 'GarageCars': ' Size of garage in car capacity',\n",
       " 'GarageCond': ' Garage condition',\n",
       " 'GarageFinish': ' Interior finish of the garage',\n",
       " 'GarageQual': ' Garage quality',\n",
       " 'GarageType': ' Garage location',\n",
       " 'GarageYrBlt': ' Year garage was built',\n",
       " 'GrLivArea': ' Above grade (ground) living area square feet',\n",
       " 'HalfBath': ' Half baths above grade',\n",
       " 'Heating': ' Type of heating',\n",
       " 'HeatingQC': ' Heating quality and condition',\n",
       " 'HouseStyle': ' Style of dwelling',\n",
       " 'KitchenAbvGr': None,\n",
       " 'KitchenQual': ' Kitchen quality',\n",
       " 'LandContour': ' Flatness of the property',\n",
       " 'LandSlope': ' Slope of property',\n",
       " 'LotArea': ' Lot size in square feet',\n",
       " 'LotConfig': ' Lot configuration',\n",
       " 'LotFrontage': ' Linear feet of street connected to property',\n",
       " 'LotShape': ' General shape of property',\n",
       " 'LowQualFinSF': ' Low quality finished square feet (all floors)',\n",
       " 'MSSubClass': ' Identifies the type of dwelling involved in the sale.',\n",
       " 'MSZoning': ' Identifies the general zoning classification of the sale.',\n",
       " 'MasVnrArea': ' Masonry veneer area in square feet',\n",
       " 'MasVnrType': ' Masonry veneer type',\n",
       " 'MiscFeature': ' Miscellaneous feature not covered in other categories',\n",
       " 'MiscVal': ' $Value of miscellaneous feature',\n",
       " 'MoSold': ' Month Sold (MM)',\n",
       " 'Neighborhood': ' Physical locations within Ames city limits',\n",
       " 'OpenPorchSF': ' Open porch area in square feet',\n",
       " 'OverallCond': ' Rates the overall condition of the house',\n",
       " 'OverallQual': ' Rates the overall material and finish of the house',\n",
       " 'PavedDrive': ' Paved driveway',\n",
       " 'PoolArea': ' Pool area in square feet',\n",
       " 'PoolQC': ' Pool quality',\n",
       " 'RoofMatl': ' Roof material',\n",
       " 'RoofStyle': ' Type of roof',\n",
       " 'SaleCondition': ' Condition of sale',\n",
       " 'SalePrice': None,\n",
       " 'SaleType': ' Type of sale',\n",
       " 'ScreenPorch': ' Screen porch area in square feet',\n",
       " 'Street': ' Type of road access to property',\n",
       " 'TotRmsAbvGrd': ' Total rooms above grade (does not include bathrooms)',\n",
       " 'TotalBsmtSF': ' Total square feet of basement area',\n",
       " 'Utilities': ' Type of utilities available',\n",
       " 'WoodDeckSF': ' Wood deck area in square feet',\n",
       " 'YearBuilt': ' Original construction date',\n",
       " 'YearRemodAdd': ' Remodel date (same as construction date if no remodeling or additions)',\n",
       " 'YrSold': ' Year Sold (YYYY)'}"
      ]
     },
     "execution_count": 6,
     "metadata": {},
     "output_type": "execute_result"
    }
   ],
   "source": [
    "description"
   ]
  },
  {
   "cell_type": "markdown",
   "metadata": {},
   "source": [
    "Lets look for correlations"
   ]
  },
  {
   "cell_type": "code",
   "execution_count": 23,
   "metadata": {},
   "outputs": [
    {
     "data": {
      "text/plain": [
       "SalePrice       1.000000\n",
       "OverallQual     0.790982\n",
       "GrLivArea       0.708624\n",
       "GarageCars      0.640409\n",
       "GarageArea      0.623431\n",
       "TotalBsmtSF     0.613581\n",
       "1stFlrSF        0.605852\n",
       "FullBath        0.560664\n",
       "TotRmsAbvGrd    0.533723\n",
       "YearBuilt       0.522897\n",
       "Name: SalePrice, dtype: float64"
      ]
     },
     "execution_count": 23,
     "metadata": {},
     "output_type": "execute_result"
    }
   ],
   "source": [
    "corr_matrix = housing.corr()\n",
    "corr_matrix['SalePrice'].sort_values(ascending=False)[0:10]"
   ]
  },
  {
   "cell_type": "code",
   "execution_count": 24,
   "metadata": {},
   "outputs": [
    {
     "data": {
      "image/png": "[encoded data removed]",
      "text/plain": [
       "<matplotlib.figure.Figure at 0x134202dd8>"
      ]
     },
     "metadata": {},
     "output_type": "display_data"
    }
   ],
   "source": [
    "housing.plot.scatter('OverallQual', 'SalePrice');"
   ]
  },
  {
   "cell_type": "code",
   "execution_count": 16,
   "metadata": {},
   "outputs": [
    {
     "data": {
      "text/plain": [
       "Text(0.5,1,'SalePrice : None')"
      ]
     },
     "execution_count": 16,
     "metadata": {},
     "output_type": "execute_result"
    },
    {
     "data": {
      "image/png": "[encoded data removed]",
      "text/plain": [
       "<matplotlib.figure.Figure at 0x113047da0>"
      ]
     },
     "metadata": {},
     "output_type": "display_data"
    }
   ],
   "source": [
    "factor = 'SalePrice'\n",
    "plt.hist(housing[factor], bins=50);\n",
    "plt.title(\"{} : {}\".format(factor, description[factor]))"
   ]
  },
  {
   "cell_type": "markdown",
   "metadata": {},
   "source": [
    "# Lets start some sklearn"
   ]
  },
  {
   "cell_type": "code",
   "execution_count": 9,
   "metadata": {},
   "outputs": [],
   "source": [
    "train_set, test_set = train_test_split(housing, test_size=0.2, random_state=42)"
   ]
  },
  {
   "cell_type": "code",
   "execution_count": 10,
   "metadata": {},
   "outputs": [
    {
     "data": {
      "text/html": [
       "<div>\n",
       "<style scoped>\n",
       "    .dataframe tbody tr th:only-of-type {\n",
       "        vertical-align: middle;\n",
       "    }\n",
       "\n",
       "    .dataframe tbody tr th {\n",
       "        vertical-align: top;\n",
       "    }\n",
       "\n",
       "    .dataframe thead th {\n",
       "        text-align: right;\n",
       "    }\n",
       "</style>\n",
       "<table border=\"1\" class=\"dataframe\">\n",
       "  <thead>\n",
       "    <tr style=\"text-align: right;\">\n",
       "      <th></th>\n",
       "      <th>MSSubClass</th>\n",
       "      <th>MSZoning</th>\n",
       "      <th>LotFrontage</th>\n",
       "      <th>LotArea</th>\n",
       "      <th>Street</th>\n",
       "      <th>Alley</th>\n",
       "      <th>LotShape</th>\n",
       "      <th>LandContour</th>\n",
       "      <th>Utilities</th>\n",
       "      <th>LotConfig</th>\n",
       "      <th>...</th>\n",
       "      <th>PoolArea</th>\n",
       "      <th>PoolQC</th>\n",
       "      <th>Fence</th>\n",
       "      <th>MiscFeature</th>\n",
       "      <th>MiscVal</th>\n",
       "      <th>MoSold</th>\n",
       "      <th>YrSold</th>\n",
       "      <th>SaleType</th>\n",
       "      <th>SaleCondition</th>\n",
       "      <th>SalePrice</th>\n",
       "    </tr>\n",
       "    <tr>\n",
       "      <th>Id</th>\n",
       "      <th></th>\n",
       "      <th></th>\n",
       "      <th></th>\n",
       "      <th></th>\n",
       "      <th></th>\n",
       "      <th></th>\n",
       "      <th></th>\n",
       "      <th></th>\n",
       "      <th></th>\n",
       "      <th></th>\n",
       "      <th></th>\n",
       "      <th></th>\n",
       "      <th></th>\n",
       "      <th></th>\n",
       "      <th></th>\n",
       "      <th></th>\n",
       "      <th></th>\n",
       "      <th></th>\n",
       "      <th></th>\n",
       "      <th></th>\n",
       "      <th></th>\n",
       "    </tr>\n",
       "  </thead>\n",
       "  <tbody>\n",
       "    <tr>\n",
       "      <th>893</th>\n",
       "      <td>20</td>\n",
       "      <td>RL</td>\n",
       "      <td>70.0</td>\n",
       "      <td>8414</td>\n",
       "      <td>Pave</td>\n",
       "      <td>NaN</td>\n",
       "      <td>Reg</td>\n",
       "      <td>Lvl</td>\n",
       "      <td>AllPub</td>\n",
       "      <td>Inside</td>\n",
       "      <td>...</td>\n",
       "      <td>0</td>\n",
       "      <td>NaN</td>\n",
       "      <td>MnPrv</td>\n",
       "      <td>NaN</td>\n",
       "      <td>0</td>\n",
       "      <td>2</td>\n",
       "      <td>2006</td>\n",
       "      <td>WD</td>\n",
       "      <td>Normal</td>\n",
       "      <td>154500</td>\n",
       "    </tr>\n",
       "    <tr>\n",
       "      <th>1106</th>\n",
       "      <td>60</td>\n",
       "      <td>RL</td>\n",
       "      <td>98.0</td>\n",
       "      <td>12256</td>\n",
       "      <td>Pave</td>\n",
       "      <td>NaN</td>\n",
       "      <td>IR1</td>\n",
       "      <td>Lvl</td>\n",
       "      <td>AllPub</td>\n",
       "      <td>Corner</td>\n",
       "      <td>...</td>\n",
       "      <td>0</td>\n",
       "      <td>NaN</td>\n",
       "      <td>NaN</td>\n",
       "      <td>NaN</td>\n",
       "      <td>0</td>\n",
       "      <td>4</td>\n",
       "      <td>2010</td>\n",
       "      <td>WD</td>\n",
       "      <td>Normal</td>\n",
       "      <td>325000</td>\n",
       "    </tr>\n",
       "    <tr>\n",
       "      <th>414</th>\n",
       "      <td>30</td>\n",
       "      <td>RM</td>\n",
       "      <td>56.0</td>\n",
       "      <td>8960</td>\n",
       "      <td>Pave</td>\n",
       "      <td>Grvl</td>\n",
       "      <td>Reg</td>\n",
       "      <td>Lvl</td>\n",
       "      <td>AllPub</td>\n",
       "      <td>Inside</td>\n",
       "      <td>...</td>\n",
       "      <td>0</td>\n",
       "      <td>NaN</td>\n",
       "      <td>NaN</td>\n",
       "      <td>NaN</td>\n",
       "      <td>0</td>\n",
       "      <td>3</td>\n",
       "      <td>2010</td>\n",
       "      <td>WD</td>\n",
       "      <td>Normal</td>\n",
       "      <td>115000</td>\n",
       "    </tr>\n",
       "    <tr>\n",
       "      <th>523</th>\n",
       "      <td>50</td>\n",
       "      <td>RM</td>\n",
       "      <td>50.0</td>\n",
       "      <td>5000</td>\n",
       "      <td>Pave</td>\n",
       "      <td>NaN</td>\n",
       "      <td>Reg</td>\n",
       "      <td>Lvl</td>\n",
       "      <td>AllPub</td>\n",
       "      <td>Corner</td>\n",
       "      <td>...</td>\n",
       "      <td>0</td>\n",
       "      <td>NaN</td>\n",
       "      <td>NaN</td>\n",
       "      <td>NaN</td>\n",
       "      <td>0</td>\n",
       "      <td>10</td>\n",
       "      <td>2006</td>\n",
       "      <td>WD</td>\n",
       "      <td>Normal</td>\n",
       "      <td>159000</td>\n",
       "    </tr>\n",
       "    <tr>\n",
       "      <th>1037</th>\n",
       "      <td>20</td>\n",
       "      <td>RL</td>\n",
       "      <td>89.0</td>\n",
       "      <td>12898</td>\n",
       "      <td>Pave</td>\n",
       "      <td>NaN</td>\n",
       "      <td>IR1</td>\n",
       "      <td>HLS</td>\n",
       "      <td>AllPub</td>\n",
       "      <td>Inside</td>\n",
       "      <td>...</td>\n",
       "      <td>0</td>\n",
       "      <td>NaN</td>\n",
       "      <td>NaN</td>\n",
       "      <td>NaN</td>\n",
       "      <td>0</td>\n",
       "      <td>9</td>\n",
       "      <td>2009</td>\n",
       "      <td>WD</td>\n",
       "      <td>Normal</td>\n",
       "      <td>315500</td>\n",
       "    </tr>\n",
       "  </tbody>\n",
       "</table>\n",
       "<p>5 rows × 80 columns</p>\n",
       "</div>"
      ],
      "text/plain": [
       "      MSSubClass MSZoning  LotFrontage  LotArea Street Alley LotShape  \\\n",
       "Id                                                                      \n",
       "893           20       RL         70.0     8414   Pave   NaN      Reg   \n",
       "1106          60       RL         98.0    12256   Pave   NaN      IR1   \n",
       "414           30       RM         56.0     8960   Pave  Grvl      Reg   \n",
       "523           50       RM         50.0     5000   Pave   NaN      Reg   \n",
       "1037          20       RL         89.0    12898   Pave   NaN      IR1   \n",
       "\n",
       "     LandContour Utilities LotConfig    ...     PoolArea PoolQC  Fence  \\\n",
       "Id                                      ...                              \n",
       "893          Lvl    AllPub    Inside    ...            0    NaN  MnPrv   \n",
       "1106         Lvl    AllPub    Corner    ...            0    NaN    NaN   \n",
       "414          Lvl    AllPub    Inside    ...            0    NaN    NaN   \n",
       "523          Lvl    AllPub    Corner    ...            0    NaN    NaN   \n",
       "1037         HLS    AllPub    Inside    ...            0    NaN    NaN   \n",
       "\n",
       "     MiscFeature MiscVal MoSold  YrSold  SaleType  SaleCondition  SalePrice  \n",
       "Id                                                                           \n",
       "893          NaN       0      2    2006        WD         Normal     154500  \n",
       "1106         NaN       0      4    2010        WD         Normal     325000  \n",
       "414          NaN       0      3    2010        WD         Normal     115000  \n",
       "523          NaN       0     10    2006        WD         Normal     159000  \n",
       "1037         NaN       0      9    2009        WD         Normal     315500  \n",
       "\n",
       "[5 rows x 80 columns]"
      ]
     },
     "execution_count": 10,
     "metadata": {},
     "output_type": "execute_result"
    }
   ],
   "source": [
    "test_set.head()"
   ]
  },
  {
   "cell_type": "code",
   "execution_count": null,
   "metadata": {},
   "outputs": [],
   "source": []
  }
 ],
 "metadata": {
  "kernelspec": {
   "display_name": "Python 3",
   "language": "python",
   "name": "python3"
  },
  "language_info": {
   "codemirror_mode": {
    "name": "ipython",
    "version": 3
   },
   "file_extension": ".py",
   "mimetype": "text/x-python",
   "name": "python",
   "nbconvert_exporter": "python",
   "pygments_lexer": "ipython3",
   "version": "3.6.3"
  }
 },
 "nbformat": 4,
 "nbformat_minor": 2
}
